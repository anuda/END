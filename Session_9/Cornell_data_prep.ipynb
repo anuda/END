{
 "cells": [
  {
   "cell_type": "code",
   "execution_count": 2,
   "metadata": {},
   "outputs": [],
   "source": [
    "import pandas as pd\n",
    "import numpy as np"
   ]
  },
  {
   "cell_type": "code",
   "execution_count": 3,
   "metadata": {},
   "outputs": [
    {
     "name": "stdout",
     "output_type": "stream",
     "text": [
      "Downloading movie-corpus to /home/anuda/.convokit/downloads/movie-corpus\n",
      "Downloading movie-corpus from http://zissou.infosci.cornell.edu/convokit/datasets/movie-corpus/movie-corpus.zip (40.9MB)... Done\n"
     ]
    }
   ],
   "source": [
    "from convokit import Corpus, download\n",
    "corpus = Corpus(filename=download(\"movie-corpus\"))"
   ]
  },
  {
   "cell_type": "code",
   "execution_count": 4,
   "metadata": {},
   "outputs": [
    {
     "name": "stdout",
     "output_type": "stream",
     "text": [
      "Number of Speakers: 9035\n",
      "Number of Utterances: 304713\n",
      "Number of Conversations: 83097\n"
     ]
    }
   ],
   "source": [
    "corpus.print_summary_stats()"
   ]
  },
  {
   "cell_type": "code",
   "execution_count": 5,
   "metadata": {
    "scrolled": true
   },
   "outputs": [
    {
     "data": {
      "text/plain": [
       "['corpus_dirpath',\n",
       " 'meta_index',\n",
       " 'meta',\n",
       " '_vector_matrices',\n",
       " 'utterances',\n",
       " 'speakers',\n",
       " 'conversations',\n",
       " '__module__',\n",
       " '__doc__',\n",
       " '__init__',\n",
       " 'vectors',\n",
       " 'dump',\n",
       " 'get_utterance',\n",
       " 'get_conversation',\n",
       " 'get_speaker',\n",
       " 'get_user',\n",
       " 'get_object',\n",
       " 'has_utterance',\n",
       " 'has_conversation',\n",
       " 'has_speaker',\n",
       " 'has_user',\n",
       " 'random_utterance',\n",
       " 'random_conversation',\n",
       " 'random_speaker',\n",
       " 'random_user',\n",
       " 'iter_utterances',\n",
       " 'get_utterances_dataframe',\n",
       " 'iter_conversations',\n",
       " 'get_conversations_dataframe',\n",
       " 'iter_speakers',\n",
       " 'get_speakers_dataframe',\n",
       " 'iter_users',\n",
       " 'iter_objs',\n",
       " 'get_utterance_ids',\n",
       " 'get_conversation_ids',\n",
       " 'get_speaker_ids',\n",
       " 'get_object_ids',\n",
       " 'get_usernames',\n",
       " 'filter_conversations_by',\n",
       " 'filter_utterances_by',\n",
       " 'reindex_conversations',\n",
       " 'get_meta',\n",
       " 'add_meta',\n",
       " 'speaking_pairs',\n",
       " 'directed_pairwise_exchanges',\n",
       " '_merge_utterances',\n",
       " '_collect_speaker_data',\n",
       " '_update_corpus_speaker_data',\n",
       " '_reinitialize_index_helper',\n",
       " 'reinitialize_index',\n",
       " 'merge',\n",
       " 'add_utterances',\n",
       " 'update_speakers_data',\n",
       " 'print_summary_stats',\n",
       " 'delete_metadata',\n",
       " 'set_vector_matrix',\n",
       " 'append_vector_matrix',\n",
       " 'get_vector_matrix',\n",
       " 'get_vectors',\n",
       " 'delete_vector_matrix',\n",
       " 'dump_vectors',\n",
       " 'load_info',\n",
       " 'dump_info',\n",
       " 'get_attribute_table',\n",
       " 'set_speaker_convo_info',\n",
       " 'get_speaker_convo_info',\n",
       " 'organize_speaker_convo_history',\n",
       " 'get_speaker_convo_attribute_table',\n",
       " 'get_full_attribute_table',\n",
       " '__dict__',\n",
       " '__weakref__',\n",
       " '__repr__',\n",
       " '__hash__',\n",
       " '__str__',\n",
       " '__getattribute__',\n",
       " '__setattr__',\n",
       " '__delattr__',\n",
       " '__lt__',\n",
       " '__le__',\n",
       " '__eq__',\n",
       " '__ne__',\n",
       " '__gt__',\n",
       " '__ge__',\n",
       " '__new__',\n",
       " '__reduce_ex__',\n",
       " '__reduce__',\n",
       " '__subclasshook__',\n",
       " '__init_subclass__',\n",
       " '__format__',\n",
       " '__sizeof__',\n",
       " '__dir__',\n",
       " '__class__']"
      ]
     },
     "execution_count": 5,
     "metadata": {},
     "output_type": "execute_result"
    }
   ],
   "source": [
    "corpus.__dir__()"
   ]
  },
  {
   "cell_type": "code",
   "execution_count": 6,
   "metadata": {},
   "outputs": [],
   "source": [
    "# vars(corpus)"
   ]
  },
  {
   "cell_type": "code",
   "execution_count": 11,
   "metadata": {},
   "outputs": [
    {
     "data": {
      "text/plain": [
       "dict"
      ]
     },
     "execution_count": 11,
     "metadata": {},
     "output_type": "execute_result"
    }
   ],
   "source": [
    "type(corpus.utterances)"
   ]
  },
  {
   "cell_type": "code",
   "execution_count": 25,
   "metadata": {
    "scrolled": true
   },
   "outputs": [
    {
     "data": {
      "text/plain": [
       "304713"
      ]
     },
     "execution_count": 25,
     "metadata": {},
     "output_type": "execute_result"
    }
   ],
   "source": [
    "len(corpus.utterances.keys())"
   ]
  },
  {
   "cell_type": "code",
   "execution_count": 6,
   "metadata": {},
   "outputs": [
    {
     "data": {
      "text/plain": [
       "{'obj_type': 'utterance',\n",
       " '_owner': <convokit.model.corpus.Corpus at 0x7fe2345019e8>,\n",
       " 'meta': {'movie_id': 'm0',\n",
       "  'parsed': [{'rt': 1,\n",
       "    'toks': [{'tok': 'They', 'tag': 'PRP', 'dep': 'nsubj', 'up': 1, 'dn': []},\n",
       "     {'tok': 'do', 'tag': 'VBP', 'dep': 'ROOT', 'dn': [0, 2, 3]},\n",
       "     {'tok': 'not', 'tag': 'RB', 'dep': 'neg', 'up': 1, 'dn': []},\n",
       "     {'tok': '!', 'tag': '.', 'dep': 'punct', 'up': 1, 'dn': []}]}]},\n",
       " '_id': 'L1045',\n",
       " 'vectors': [],\n",
       " 'speaker': Speaker({'obj_type': 'speaker', 'meta': {'character_name': 'BIANCA', 'movie_idx': 'm0', 'movie_name': '10 things i hate about you', 'gender': 'f', 'credit_pos': '4'}, 'vectors': [], 'owner': <convokit.model.corpus.Corpus object at 0x7fe2345019e8>, 'id': 'u0'}),\n",
       " 'user': Speaker({'obj_type': 'speaker', 'meta': {'character_name': 'BIANCA', 'movie_idx': 'm0', 'movie_name': '10 things i hate about you', 'gender': 'f', 'credit_pos': '4'}, 'vectors': [], 'owner': <convokit.model.corpus.Corpus object at 0x7fe2345019e8>, 'id': 'u0'}),\n",
       " 'conversation_id': 'L1044',\n",
       " '_root': 'L1044',\n",
       " 'reply_to': 'L1044',\n",
       " 'timestamp': None,\n",
       " 'text': 'They do not!'}"
      ]
     },
     "execution_count": 6,
     "metadata": {},
     "output_type": "execute_result"
    }
   ],
   "source": [
    "vars(corpus.utterances['L1045'])"
   ]
  },
  {
   "cell_type": "code",
   "execution_count": 7,
   "metadata": {},
   "outputs": [
    {
     "data": {
      "text/plain": [
       "'They do to!'"
      ]
     },
     "execution_count": 7,
     "metadata": {},
     "output_type": "execute_result"
    }
   ],
   "source": [
    "corpus.utterances['L1044'].text"
   ]
  },
  {
   "cell_type": "code",
   "execution_count": 16,
   "metadata": {},
   "outputs": [
    {
     "data": {
      "text/plain": [
       "{'obj_type': 'utterance',\n",
       " '_owner': <convokit.model.corpus.Corpus at 0x7fe2345019e8>,\n",
       " 'meta': {'movie_id': 'm0',\n",
       "  'parsed': [{'rt': 0,\n",
       "    'toks': [{'tok': 'Was', 'tag': 'VBD', 'dep': 'ROOT', 'dn': [1, 3, 4]},\n",
       "     {'tok': 'that', 'tag': 'DT', 'dep': 'nsubj', 'up': 0, 'dn': []},\n",
       "     {'tok': 'your', 'tag': 'PRP$', 'dep': 'poss', 'up': 3, 'dn': []},\n",
       "     {'tok': 'sister', 'tag': 'NN', 'dep': 'attr', 'up': 0, 'dn': [2]},\n",
       "     {'tok': '?', 'tag': '.', 'dep': 'punct', 'up': 0, 'dn': []}]}]},\n",
       " '_id': 'L986',\n",
       " 'vectors': [],\n",
       " 'speaker': Speaker({'obj_type': 'speaker', 'meta': {'character_name': 'WALTER', 'movie_idx': 'm0', 'movie_name': '10 things i hate about you', 'gender': 'm', 'credit_pos': '9'}, 'vectors': [], 'owner': <convokit.model.corpus.Corpus object at 0x7fe2345019e8>, 'id': 'u11'}),\n",
       " 'user': Speaker({'obj_type': 'speaker', 'meta': {'character_name': 'WALTER', 'movie_idx': 'm0', 'movie_name': '10 things i hate about you', 'gender': 'm', 'credit_pos': '9'}, 'vectors': [], 'owner': <convokit.model.corpus.Corpus object at 0x7fe2345019e8>, 'id': 'u11'}),\n",
       " 'conversation_id': 'L986',\n",
       " '_root': 'L986',\n",
       " 'reply_to': None,\n",
       " 'timestamp': None,\n",
       " 'text': 'Was that your sister?'}"
      ]
     },
     "execution_count": 16,
     "metadata": {},
     "output_type": "execute_result"
    }
   ],
   "source": [
    "vars(corpus.utterances['L986'])"
   ]
  },
  {
   "cell_type": "code",
   "execution_count": 9,
   "metadata": {},
   "outputs": [
    {
     "data": {
      "text/plain": [
       "list"
      ]
     },
     "execution_count": 9,
     "metadata": {},
     "output_type": "execute_result"
    }
   ],
   "source": [
    "elements = list(corpus.utterances.keys())\n",
    "type(elements)"
   ]
  },
  {
   "cell_type": "code",
   "execution_count": 29,
   "metadata": {},
   "outputs": [
    {
     "data": {
      "text/plain": [
       "['L1045',\n",
       " 'L1044',\n",
       " 'L985',\n",
       " 'L984',\n",
       " 'L925',\n",
       " 'L924',\n",
       " 'L872',\n",
       " 'L871',\n",
       " 'L870',\n",
       " 'L869']"
      ]
     },
     "execution_count": 29,
     "metadata": {},
     "output_type": "execute_result"
    }
   ],
   "source": [
    "elements[0:10]"
   ]
  },
  {
   "cell_type": "code",
   "execution_count": 40,
   "metadata": {},
   "outputs": [],
   "source": [
    "# conversation_df=pd.DataFrame(columns=['text','response'])\n",
    "lst = []"
   ]
  },
  {
   "cell_type": "code",
   "execution_count": 41,
   "metadata": {},
   "outputs": [],
   "source": [
    "for i in elements:\n",
    "    lst.append([i,corpus.utterances[i].text,corpus.utterances[i].reply_to])\n",
    "conversation_df = pd.DataFrame(lst, columns=['id','response','reply_to_id'])"
   ]
  },
  {
   "cell_type": "code",
   "execution_count": 42,
   "metadata": {},
   "outputs": [
    {
     "data": {
      "text/plain": [
       "(304713, 3)"
      ]
     },
     "execution_count": 42,
     "metadata": {},
     "output_type": "execute_result"
    }
   ],
   "source": [
    "conversation_df.shape"
   ]
  },
  {
   "cell_type": "code",
   "execution_count": 43,
   "metadata": {},
   "outputs": [
    {
     "data": {
      "text/html": [
       "<div>\n",
       "<style scoped>\n",
       "    .dataframe tbody tr th:only-of-type {\n",
       "        vertical-align: middle;\n",
       "    }\n",
       "\n",
       "    .dataframe tbody tr th {\n",
       "        vertical-align: top;\n",
       "    }\n",
       "\n",
       "    .dataframe thead th {\n",
       "        text-align: right;\n",
       "    }\n",
       "</style>\n",
       "<table border=\"1\" class=\"dataframe\">\n",
       "  <thead>\n",
       "    <tr style=\"text-align: right;\">\n",
       "      <th></th>\n",
       "      <th>id</th>\n",
       "      <th>response</th>\n",
       "      <th>reply_to_id</th>\n",
       "    </tr>\n",
       "  </thead>\n",
       "  <tbody>\n",
       "    <tr>\n",
       "      <th>0</th>\n",
       "      <td>L1045</td>\n",
       "      <td>They do not!</td>\n",
       "      <td>L1044</td>\n",
       "    </tr>\n",
       "    <tr>\n",
       "      <th>1</th>\n",
       "      <td>L1044</td>\n",
       "      <td>They do to!</td>\n",
       "      <td>None</td>\n",
       "    </tr>\n",
       "    <tr>\n",
       "      <th>2</th>\n",
       "      <td>L985</td>\n",
       "      <td>I hope so.</td>\n",
       "      <td>L984</td>\n",
       "    </tr>\n",
       "    <tr>\n",
       "      <th>3</th>\n",
       "      <td>L984</td>\n",
       "      <td>She okay?</td>\n",
       "      <td>None</td>\n",
       "    </tr>\n",
       "    <tr>\n",
       "      <th>4</th>\n",
       "      <td>L925</td>\n",
       "      <td>Let's go.</td>\n",
       "      <td>L924</td>\n",
       "    </tr>\n",
       "  </tbody>\n",
       "</table>\n",
       "</div>"
      ],
      "text/plain": [
       "      id      response reply_to_id\n",
       "0  L1045  They do not!       L1044\n",
       "1  L1044   They do to!        None\n",
       "2   L985    I hope so.        L984\n",
       "3   L984     She okay?        None\n",
       "4   L925     Let's go.        L924"
      ]
     },
     "execution_count": 43,
     "metadata": {},
     "output_type": "execute_result"
    }
   ],
   "source": [
    "conversation_df.head()"
   ]
  },
  {
   "cell_type": "code",
   "execution_count": 45,
   "metadata": {},
   "outputs": [],
   "source": [
    "conversation_df_cp = conversation_df[['response','id']]\n",
    "conversation_df_cp.columns=['text','reply_to_id']"
   ]
  },
  {
   "cell_type": "code",
   "execution_count": 46,
   "metadata": {},
   "outputs": [
    {
     "data": {
      "text/plain": [
       "(221616, 4)"
      ]
     },
     "execution_count": 46,
     "metadata": {},
     "output_type": "execute_result"
    }
   ],
   "source": [
    "conversation_df_merged = pd.merge(conversation_df,conversation_df_cp,on='reply_to_id')\n",
    "conversation_df_merged.shape"
   ]
  },
  {
   "cell_type": "code",
   "execution_count": 48,
   "metadata": {},
   "outputs": [
    {
     "data": {
      "text/html": [
       "<div>\n",
       "<style scoped>\n",
       "    .dataframe tbody tr th:only-of-type {\n",
       "        vertical-align: middle;\n",
       "    }\n",
       "\n",
       "    .dataframe tbody tr th {\n",
       "        vertical-align: top;\n",
       "    }\n",
       "\n",
       "    .dataframe thead th {\n",
       "        text-align: right;\n",
       "    }\n",
       "</style>\n",
       "<table border=\"1\" class=\"dataframe\">\n",
       "  <thead>\n",
       "    <tr style=\"text-align: right;\">\n",
       "      <th></th>\n",
       "      <th>id</th>\n",
       "      <th>response</th>\n",
       "      <th>reply_to_id</th>\n",
       "      <th>text</th>\n",
       "    </tr>\n",
       "  </thead>\n",
       "  <tbody>\n",
       "    <tr>\n",
       "      <th>0</th>\n",
       "      <td>L1045</td>\n",
       "      <td>They do not!</td>\n",
       "      <td>L1044</td>\n",
       "      <td>They do to!</td>\n",
       "    </tr>\n",
       "    <tr>\n",
       "      <th>1</th>\n",
       "      <td>L985</td>\n",
       "      <td>I hope so.</td>\n",
       "      <td>L984</td>\n",
       "      <td>She okay?</td>\n",
       "    </tr>\n",
       "    <tr>\n",
       "      <th>2</th>\n",
       "      <td>L925</td>\n",
       "      <td>Let's go.</td>\n",
       "      <td>L924</td>\n",
       "      <td>Wow</td>\n",
       "    </tr>\n",
       "    <tr>\n",
       "      <th>3</th>\n",
       "      <td>L872</td>\n",
       "      <td>Okay -- you're gonna need to learn how to lie.</td>\n",
       "      <td>L871</td>\n",
       "      <td>No</td>\n",
       "    </tr>\n",
       "    <tr>\n",
       "      <th>4</th>\n",
       "      <td>L871</td>\n",
       "      <td>No</td>\n",
       "      <td>L870</td>\n",
       "      <td>I'm kidding.  You know how sometimes you just ...</td>\n",
       "    </tr>\n",
       "    <tr>\n",
       "      <th>5</th>\n",
       "      <td>L869</td>\n",
       "      <td>Like my fear of wearing pastels?</td>\n",
       "      <td>L868</td>\n",
       "      <td>The \"real you\".</td>\n",
       "    </tr>\n",
       "    <tr>\n",
       "      <th>6</th>\n",
       "      <td>L868</td>\n",
       "      <td>The \"real you\".</td>\n",
       "      <td>L867</td>\n",
       "      <td>What good stuff?</td>\n",
       "    </tr>\n",
       "    <tr>\n",
       "      <th>7</th>\n",
       "      <td>L867</td>\n",
       "      <td>What good stuff?</td>\n",
       "      <td>L866</td>\n",
       "      <td>I figured you'd get to the good stuff eventually.</td>\n",
       "    </tr>\n",
       "    <tr>\n",
       "      <th>8</th>\n",
       "      <td>L865</td>\n",
       "      <td>Thank God!  If I had to hear one more story ab...</td>\n",
       "      <td>L864</td>\n",
       "      <td>Me.  This endless ...blonde babble. I'm like, ...</td>\n",
       "    </tr>\n",
       "    <tr>\n",
       "      <th>9</th>\n",
       "      <td>L864</td>\n",
       "      <td>Me.  This endless ...blonde babble. I'm like, ...</td>\n",
       "      <td>L863</td>\n",
       "      <td>What crap?</td>\n",
       "    </tr>\n",
       "  </tbody>\n",
       "</table>\n",
       "</div>"
      ],
      "text/plain": [
       "      id                                           response reply_to_id  \\\n",
       "0  L1045                                       They do not!       L1044   \n",
       "1   L985                                         I hope so.        L984   \n",
       "2   L925                                          Let's go.        L924   \n",
       "3   L872     Okay -- you're gonna need to learn how to lie.        L871   \n",
       "4   L871                                                 No        L870   \n",
       "5   L869                   Like my fear of wearing pastels?        L868   \n",
       "6   L868                                    The \"real you\".        L867   \n",
       "7   L867                                   What good stuff?        L866   \n",
       "8   L865  Thank God!  If I had to hear one more story ab...        L864   \n",
       "9   L864  Me.  This endless ...blonde babble. I'm like, ...        L863   \n",
       "\n",
       "                                                text  \n",
       "0                                        They do to!  \n",
       "1                                          She okay?  \n",
       "2                                                Wow  \n",
       "3                                                 No  \n",
       "4  I'm kidding.  You know how sometimes you just ...  \n",
       "5                                    The \"real you\".  \n",
       "6                                   What good stuff?  \n",
       "7  I figured you'd get to the good stuff eventually.  \n",
       "8  Me.  This endless ...blonde babble. I'm like, ...  \n",
       "9                                         What crap?  "
      ]
     },
     "execution_count": 48,
     "metadata": {},
     "output_type": "execute_result"
    }
   ],
   "source": [
    "conversation_df_merged.head(10)"
   ]
  },
  {
   "cell_type": "code",
   "execution_count": 56,
   "metadata": {},
   "outputs": [
    {
     "data": {
      "text/plain": [
       "177292"
      ]
     },
     "execution_count": 56,
     "metadata": {},
     "output_type": "execute_result"
    }
   ],
   "source": [
    "132969+44323"
   ]
  },
  {
   "cell_type": "code",
   "execution_count": 53,
   "metadata": {},
   "outputs": [
    {
     "data": {
      "text/plain": [
       "(132969.6, 44323.200000000004, 44323.200000000004)"
      ]
     },
     "execution_count": 53,
     "metadata": {},
     "output_type": "execute_result"
    }
   ],
   "source": [
    "221616*0.6, 221616*0.2, 221616*0.2"
   ]
  },
  {
   "cell_type": "code",
   "execution_count": 55,
   "metadata": {},
   "outputs": [],
   "source": [
    "conversation_df_merged.loc[:132969,['text','response']].loc[~pd.isna(conversation_df_merged.response)].to_csv('cornell/train.csv',index=False)"
   ]
  },
  {
   "cell_type": "code",
   "execution_count": 57,
   "metadata": {},
   "outputs": [],
   "source": [
    "conversation_df_merged.loc[132969:177292,['text','response']].loc[~pd.isna(conversation_df_merged.response)].to_csv('cornell/valid.csv',index=False)"
   ]
  },
  {
   "cell_type": "code",
   "execution_count": 59,
   "metadata": {},
   "outputs": [],
   "source": [
    "conversation_df_merged.loc[177292:,['text','response']].loc[~pd.isna(conversation_df_merged.response)].to_csv('cornell/test.csv',index=False)"
   ]
  },
  {
   "cell_type": "code",
   "execution_count": 50,
   "metadata": {},
   "outputs": [
    {
     "data": {
      "text/plain": [
       "{'obj_type': 'utterance',\n",
       " '_owner': <convokit.model.corpus.Corpus at 0x7fe2345019e8>,\n",
       " 'meta': {'movie_id': 'm0',\n",
       "  'parsed': [{'rt': 0,\n",
       "    'toks': [{'tok': 'Me', 'tag': 'PRP', 'dep': 'ROOT', 'dn': [1]},\n",
       "     {'tok': '.', 'tag': '.', 'dep': 'punct', 'up': 0, 'dn': [2]},\n",
       "     {'tok': ' ', 'tag': '_SP', 'dep': '', 'up': 1, 'dn': []}]},\n",
       "   {'rt': 4,\n",
       "    'toks': [{'tok': 'This', 'tag': 'DT', 'dep': 'det', 'up': 4, 'dn': []},\n",
       "     {'tok': 'endless', 'tag': 'JJ', 'dep': 'amod', 'up': 4, 'dn': []},\n",
       "     {'tok': '...', 'tag': '.', 'dep': 'punct', 'up': 4, 'dn': []},\n",
       "     {'tok': 'blonde', 'tag': 'JJ', 'dep': 'amod', 'up': 4, 'dn': []},\n",
       "     {'tok': 'babble', 'tag': 'NN', 'dep': 'ROOT', 'dn': [0, 1, 2, 3, 5]},\n",
       "     {'tok': '.', 'tag': '.', 'dep': 'punct', 'up': 4, 'dn': []}]},\n",
       "   {'rt': 1,\n",
       "    'toks': [{'tok': 'I', 'tag': 'PRP', 'dep': 'nsubj', 'up': 1, 'dn': []},\n",
       "     {'tok': \"'m\", 'tag': 'VBP', 'dep': 'ROOT', 'dn': [0, 2, 3, 4, 6]},\n",
       "     {'tok': 'like', 'tag': 'UH', 'dep': 'intj', 'up': 1, 'dn': []},\n",
       "     {'tok': ',', 'tag': ',', 'dep': 'punct', 'up': 1, 'dn': []},\n",
       "     {'tok': 'boring', 'tag': 'VBG', 'dep': 'advcl', 'up': 1, 'dn': [5]},\n",
       "     {'tok': 'myself', 'tag': 'PRP', 'dep': 'dobj', 'up': 4, 'dn': []},\n",
       "     {'tok': '.', 'tag': '.', 'dep': 'punct', 'up': 1, 'dn': []}]}]},\n",
       " '_id': 'L864',\n",
       " 'vectors': [],\n",
       " 'speaker': Speaker({'obj_type': 'speaker', 'meta': {'character_name': 'BIANCA', 'movie_idx': 'm0', 'movie_name': '10 things i hate about you', 'gender': 'f', 'credit_pos': '4'}, 'vectors': [], 'owner': <convokit.model.corpus.Corpus object at 0x7fe2345019e8>, 'id': 'u0'}),\n",
       " 'user': Speaker({'obj_type': 'speaker', 'meta': {'character_name': 'BIANCA', 'movie_idx': 'm0', 'movie_name': '10 things i hate about you', 'gender': 'f', 'credit_pos': '4'}, 'vectors': [], 'owner': <convokit.model.corpus.Corpus object at 0x7fe2345019e8>, 'id': 'u0'}),\n",
       " 'conversation_id': 'L862',\n",
       " '_root': 'L862',\n",
       " 'reply_to': 'L863',\n",
       " 'timestamp': None,\n",
       " 'text': \"Me.  This endless ...blonde babble. I'm like, boring myself.\"}"
      ]
     },
     "execution_count": 50,
     "metadata": {},
     "output_type": "execute_result"
    }
   ],
   "source": [
    "vars(corpus.utterances['L864'])"
   ]
  },
  {
   "cell_type": "code",
   "execution_count": 51,
   "metadata": {},
   "outputs": [
    {
     "data": {
      "text/plain": [
       "{'obj_type': 'utterance',\n",
       " '_owner': <convokit.model.corpus.Corpus at 0x7fe2345019e8>,\n",
       " 'meta': {'movie_id': 'm0',\n",
       "  'parsed': [{'rt': 1,\n",
       "    'toks': [{'tok': 'What', 'tag': 'WDT', 'dep': 'det', 'up': 1, 'dn': []},\n",
       "     {'tok': 'crap', 'tag': 'NN', 'dep': 'ROOT', 'dn': [0, 2]},\n",
       "     {'tok': '?', 'tag': '.', 'dep': 'punct', 'up': 1, 'dn': []}]}]},\n",
       " '_id': 'L863',\n",
       " 'vectors': [],\n",
       " 'speaker': Speaker({'obj_type': 'speaker', 'meta': {'character_name': 'CAMERON', 'movie_idx': 'm0', 'movie_name': '10 things i hate about you', 'gender': 'm', 'credit_pos': '3'}, 'vectors': [], 'owner': <convokit.model.corpus.Corpus object at 0x7fe2345019e8>, 'id': 'u2'}),\n",
       " 'user': Speaker({'obj_type': 'speaker', 'meta': {'character_name': 'CAMERON', 'movie_idx': 'm0', 'movie_name': '10 things i hate about you', 'gender': 'm', 'credit_pos': '3'}, 'vectors': [], 'owner': <convokit.model.corpus.Corpus object at 0x7fe2345019e8>, 'id': 'u2'}),\n",
       " 'conversation_id': 'L862',\n",
       " '_root': 'L862',\n",
       " 'reply_to': 'L862',\n",
       " 'timestamp': None,\n",
       " 'text': 'What crap?'}"
      ]
     },
     "execution_count": 51,
     "metadata": {},
     "output_type": "execute_result"
    }
   ],
   "source": [
    "vars(corpus.utterances['L863'])"
   ]
  },
  {
   "cell_type": "code",
   "execution_count": 52,
   "metadata": {},
   "outputs": [
    {
     "data": {
      "text/plain": [
       "{'obj_type': 'utterance',\n",
       " '_owner': <convokit.model.corpus.Corpus at 0x7fe2345019e8>,\n",
       " 'meta': {'movie_id': 'm0',\n",
       "  'parsed': [{'rt': 2,\n",
       "    'toks': [{'tok': 'do', 'tag': 'VBP', 'dep': 'aux', 'up': 2, 'dn': []},\n",
       "     {'tok': 'you', 'tag': 'PRP', 'dep': 'nsubj', 'up': 2, 'dn': []},\n",
       "     {'tok': 'listen', 'tag': 'VB', 'dep': 'ROOT', 'dn': [0, 1, 3, 6]},\n",
       "     {'tok': 'to', 'tag': 'IN', 'dep': 'prep', 'up': 2, 'dn': [5]},\n",
       "     {'tok': 'this', 'tag': 'DT', 'dep': 'det', 'up': 5, 'dn': []},\n",
       "     {'tok': 'crap', 'tag': 'NN', 'dep': 'pobj', 'up': 3, 'dn': [4]},\n",
       "     {'tok': '?', 'tag': '.', 'dep': 'punct', 'up': 2, 'dn': []}]}]},\n",
       " '_id': 'L862',\n",
       " 'vectors': [],\n",
       " 'speaker': Speaker({'obj_type': 'speaker', 'meta': {'character_name': 'BIANCA', 'movie_idx': 'm0', 'movie_name': '10 things i hate about you', 'gender': 'f', 'credit_pos': '4'}, 'vectors': [], 'owner': <convokit.model.corpus.Corpus object at 0x7fe2345019e8>, 'id': 'u0'}),\n",
       " 'user': Speaker({'obj_type': 'speaker', 'meta': {'character_name': 'BIANCA', 'movie_idx': 'm0', 'movie_name': '10 things i hate about you', 'gender': 'f', 'credit_pos': '4'}, 'vectors': [], 'owner': <convokit.model.corpus.Corpus object at 0x7fe2345019e8>, 'id': 'u0'}),\n",
       " 'conversation_id': 'L862',\n",
       " '_root': 'L862',\n",
       " 'reply_to': None,\n",
       " 'timestamp': None,\n",
       " 'text': 'do you listen to this crap?'}"
      ]
     },
     "execution_count": 52,
     "metadata": {},
     "output_type": "execute_result"
    }
   ],
   "source": [
    "vars(corpus.utterances['L862'])"
   ]
  },
  {
   "cell_type": "code",
   "execution_count": null,
   "metadata": {},
   "outputs": [],
   "source": []
  }
 ],
 "metadata": {
  "kernelspec": {
   "display_name": "pytorch",
   "language": "python",
   "name": "pytorch"
  },
  "language_info": {
   "codemirror_mode": {
    "name": "ipython",
    "version": 3
   },
   "file_extension": ".py",
   "mimetype": "text/x-python",
   "name": "python",
   "nbconvert_exporter": "python",
   "pygments_lexer": "ipython3",
   "version": "3.6.12"
  }
 },
 "nbformat": 4,
 "nbformat_minor": 4
}
