{
 "cells": [
  {
   "cell_type": "code",
   "execution_count": 2,
   "metadata": {},
   "outputs": [],
   "source": [
    "import pandas as pd\n",
    "import numpy as np\n",
    "pd.set_option('display.max_colwidth', 999)"
   ]
  },
  {
   "cell_type": "code",
   "execution_count": 3,
   "metadata": {},
   "outputs": [
    {
     "data": {
      "text/html": [
       "<div>\n",
       "<style scoped>\n",
       "    .dataframe tbody tr th:only-of-type {\n",
       "        vertical-align: middle;\n",
       "    }\n",
       "\n",
       "    .dataframe tbody tr th {\n",
       "        vertical-align: top;\n",
       "    }\n",
       "\n",
       "    .dataframe thead th {\n",
       "        text-align: right;\n",
       "    }\n",
       "</style>\n",
       "<table border=\"1\" class=\"dataframe\">\n",
       "  <thead>\n",
       "    <tr style=\"text-align: right;\">\n",
       "      <th></th>\n",
       "      <th>tweet_id</th>\n",
       "      <th>author_id</th>\n",
       "      <th>inbound</th>\n",
       "      <th>created_at</th>\n",
       "      <th>text</th>\n",
       "      <th>response_tweet_id</th>\n",
       "      <th>in_response_to_tweet_id</th>\n",
       "    </tr>\n",
       "  </thead>\n",
       "  <tbody>\n",
       "    <tr>\n",
       "      <th>0</th>\n",
       "      <td>1</td>\n",
       "      <td>sprintcare</td>\n",
       "      <td>False</td>\n",
       "      <td>Tue Oct 31 22:10:47 +0000 2017</td>\n",
       "      <td>@115712 I understand. I would like to assist you. We would need to get you into a private secured link to further assist.</td>\n",
       "      <td>2</td>\n",
       "      <td>3.0</td>\n",
       "    </tr>\n",
       "    <tr>\n",
       "      <th>1</th>\n",
       "      <td>2</td>\n",
       "      <td>115712</td>\n",
       "      <td>True</td>\n",
       "      <td>Tue Oct 31 22:11:45 +0000 2017</td>\n",
       "      <td>@sprintcare and how do you propose we do that</td>\n",
       "      <td>NaN</td>\n",
       "      <td>1.0</td>\n",
       "    </tr>\n",
       "    <tr>\n",
       "      <th>2</th>\n",
       "      <td>3</td>\n",
       "      <td>115712</td>\n",
       "      <td>True</td>\n",
       "      <td>Tue Oct 31 22:08:27 +0000 2017</td>\n",
       "      <td>@sprintcare I have sent several private messages and no one is responding as usual</td>\n",
       "      <td>1</td>\n",
       "      <td>4.0</td>\n",
       "    </tr>\n",
       "    <tr>\n",
       "      <th>3</th>\n",
       "      <td>4</td>\n",
       "      <td>sprintcare</td>\n",
       "      <td>False</td>\n",
       "      <td>Tue Oct 31 21:54:49 +0000 2017</td>\n",
       "      <td>@115712 Please send us a Private Message so that we can further assist you. Just click ‘Message’ at the top of your profile.</td>\n",
       "      <td>3</td>\n",
       "      <td>5.0</td>\n",
       "    </tr>\n",
       "    <tr>\n",
       "      <th>4</th>\n",
       "      <td>5</td>\n",
       "      <td>115712</td>\n",
       "      <td>True</td>\n",
       "      <td>Tue Oct 31 21:49:35 +0000 2017</td>\n",
       "      <td>@sprintcare I did.</td>\n",
       "      <td>4</td>\n",
       "      <td>6.0</td>\n",
       "    </tr>\n",
       "  </tbody>\n",
       "</table>\n",
       "</div>"
      ],
      "text/plain": [
       "   tweet_id   author_id  inbound                      created_at  \\\n",
       "0         1  sprintcare    False  Tue Oct 31 22:10:47 +0000 2017   \n",
       "1         2      115712     True  Tue Oct 31 22:11:45 +0000 2017   \n",
       "2         3      115712     True  Tue Oct 31 22:08:27 +0000 2017   \n",
       "3         4  sprintcare    False  Tue Oct 31 21:54:49 +0000 2017   \n",
       "4         5      115712     True  Tue Oct 31 21:49:35 +0000 2017   \n",
       "\n",
       "                                                                                                                           text  \\\n",
       "0     @115712 I understand. I would like to assist you. We would need to get you into a private secured link to further assist.   \n",
       "1                                                                                 @sprintcare and how do you propose we do that   \n",
       "2                                            @sprintcare I have sent several private messages and no one is responding as usual   \n",
       "3  @115712 Please send us a Private Message so that we can further assist you. Just click ‘Message’ at the top of your profile.   \n",
       "4                                                                                                            @sprintcare I did.   \n",
       "\n",
       "  response_tweet_id  in_response_to_tweet_id  \n",
       "0                 2                      3.0  \n",
       "1               NaN                      1.0  \n",
       "2                 1                      4.0  \n",
       "3                 3                      5.0  \n",
       "4                 4                      6.0  "
      ]
     },
     "execution_count": 3,
     "metadata": {},
     "output_type": "execute_result"
    }
   ],
   "source": [
    "tweets = pd.read_csv('twcs/twcs.csv')\n",
    "tweets.head()"
   ]
  },
  {
   "cell_type": "code",
   "execution_count": 4,
   "metadata": {},
   "outputs": [
    {
     "data": {
      "text/plain": [
       "tweet_id                     int64\n",
       "author_id                   object\n",
       "inbound                       bool\n",
       "created_at                  object\n",
       "text                        object\n",
       "response_tweet_id           object\n",
       "in_response_to_tweet_id    float64\n",
       "dtype: object"
      ]
     },
     "execution_count": 4,
     "metadata": {},
     "output_type": "execute_result"
    }
   ],
   "source": [
    "tweets.dtypes"
   ]
  },
  {
   "cell_type": "code",
   "execution_count": 5,
   "metadata": {},
   "outputs": [],
   "source": [
    "tweets_2 = tweets[['text','tweet_id']]\n",
    "tweets.loc[pd.isna(tweets['response_tweet_id']),'response_tweet_id']=0\n",
    "tweets['comma_count'] = tweets.response_tweet_id.str.count(',')\n",
    "tweets=tweets.loc[tweets.comma_count==0]\n",
    "tweets['response_tweet_id'] = tweets['response_tweet_id'].astype('int')"
   ]
  },
  {
   "cell_type": "code",
   "execution_count": 6,
   "metadata": {},
   "outputs": [
    {
     "data": {
      "text/plain": [
       "(1548719, 8)"
      ]
     },
     "execution_count": 6,
     "metadata": {},
     "output_type": "execute_result"
    }
   ],
   "source": [
    "tweets.shape"
   ]
  },
  {
   "cell_type": "code",
   "execution_count": 7,
   "metadata": {},
   "outputs": [],
   "source": [
    "\n",
    "merged_tweets = pd.merge(tweets[['response_tweet_id','text']], tweets_2,left_on='response_tweet_id', right_on='tweet_id')"
   ]
  },
  {
   "cell_type": "code",
   "execution_count": 8,
   "metadata": {},
   "outputs": [
    {
     "data": {
      "text/plain": [
       "(1548719, 4)"
      ]
     },
     "execution_count": 8,
     "metadata": {},
     "output_type": "execute_result"
    }
   ],
   "source": [
    "merged_tweets.shape"
   ]
  },
  {
   "cell_type": "code",
   "execution_count": 9,
   "metadata": {},
   "outputs": [
    {
     "data": {
      "text/html": [
       "<div>\n",
       "<style scoped>\n",
       "    .dataframe tbody tr th:only-of-type {\n",
       "        vertical-align: middle;\n",
       "    }\n",
       "\n",
       "    .dataframe tbody tr th {\n",
       "        vertical-align: top;\n",
       "    }\n",
       "\n",
       "    .dataframe thead th {\n",
       "        text-align: right;\n",
       "    }\n",
       "</style>\n",
       "<table border=\"1\" class=\"dataframe\">\n",
       "  <thead>\n",
       "    <tr style=\"text-align: right;\">\n",
       "      <th></th>\n",
       "      <th>response_tweet_id</th>\n",
       "      <th>text</th>\n",
       "      <th>response</th>\n",
       "      <th>tweet_id</th>\n",
       "    </tr>\n",
       "  </thead>\n",
       "  <tbody>\n",
       "    <tr>\n",
       "      <th>0</th>\n",
       "      <td>2</td>\n",
       "      <td>@115712 I understand. I would like to assist you. We would need to get you into a private secured link to further assist.</td>\n",
       "      <td>@sprintcare and how do you propose we do that</td>\n",
       "      <td>2</td>\n",
       "    </tr>\n",
       "    <tr>\n",
       "      <th>1</th>\n",
       "      <td>1</td>\n",
       "      <td>@sprintcare I have sent several private messages and no one is responding as usual</td>\n",
       "      <td>@115712 I understand. I would like to assist you. We would need to get you into a private secured link to further assist.</td>\n",
       "      <td>1</td>\n",
       "    </tr>\n",
       "    <tr>\n",
       "      <th>2</th>\n",
       "      <td>3</td>\n",
       "      <td>@115712 Please send us a Private Message so that we can further assist you. Just click ‘Message’ at the top of your profile.</td>\n",
       "      <td>@sprintcare I have sent several private messages and no one is responding as usual</td>\n",
       "      <td>3</td>\n",
       "    </tr>\n",
       "    <tr>\n",
       "      <th>3</th>\n",
       "      <td>4</td>\n",
       "      <td>@sprintcare I did.</td>\n",
       "      <td>@115712 Please send us a Private Message so that we can further assist you. Just click ‘Message’ at the top of your profile.</td>\n",
       "      <td>4</td>\n",
       "    </tr>\n",
       "    <tr>\n",
       "      <th>4</th>\n",
       "      <td>12</td>\n",
       "      <td>@115713 We understand your concerns and we'd like for you to please send us a Direct Message, so that we can further assist you. -AA</td>\n",
       "      <td>@sprintcare You gonna magically change your connectivity for me and my whole family ? 🤥 💯</td>\n",
       "      <td>12</td>\n",
       "    </tr>\n",
       "  </tbody>\n",
       "</table>\n",
       "</div>"
      ],
      "text/plain": [
       "   response_tweet_id  \\\n",
       "0                  2   \n",
       "1                  1   \n",
       "2                  3   \n",
       "3                  4   \n",
       "4                 12   \n",
       "\n",
       "                                                                                                                                   text  \\\n",
       "0             @115712 I understand. I would like to assist you. We would need to get you into a private secured link to further assist.   \n",
       "1                                                    @sprintcare I have sent several private messages and no one is responding as usual   \n",
       "2          @115712 Please send us a Private Message so that we can further assist you. Just click ‘Message’ at the top of your profile.   \n",
       "3                                                                                                                    @sprintcare I did.   \n",
       "4  @115713 We understand your concerns and we'd like for you to please send us a Direct Message, so that we can further assist you. -AA   \n",
       "\n",
       "                                                                                                                       response  \\\n",
       "0                                                                                 @sprintcare and how do you propose we do that   \n",
       "1     @115712 I understand. I would like to assist you. We would need to get you into a private secured link to further assist.   \n",
       "2                                            @sprintcare I have sent several private messages and no one is responding as usual   \n",
       "3  @115712 Please send us a Private Message so that we can further assist you. Just click ‘Message’ at the top of your profile.   \n",
       "4                                     @sprintcare You gonna magically change your connectivity for me and my whole family ? 🤥 💯   \n",
       "\n",
       "   tweet_id  \n",
       "0         2  \n",
       "1         1  \n",
       "2         3  \n",
       "3         4  \n",
       "4        12  "
      ]
     },
     "execution_count": 9,
     "metadata": {},
     "output_type": "execute_result"
    }
   ],
   "source": [
    "merged_tweets.columns=['response_tweet_id','text','response','tweet_id']\n",
    "merged_tweets.head()"
   ]
  },
  {
   "cell_type": "code",
   "execution_count": 10,
   "metadata": {},
   "outputs": [],
   "source": [
    "import re\n",
    "def remove_spcl(x):\n",
    "    return  re.sub(r\"\\s+\\s+\",\" \",re.sub(r\"[^A-Za-z0-9()!?\\'\\`\\\"\\r+\\n+]\",\" \",x.lower())).strip()"
   ]
  },
  {
   "cell_type": "code",
   "execution_count": 11,
   "metadata": {},
   "outputs": [
    {
     "data": {
      "text/html": [
       "<div>\n",
       "<style scoped>\n",
       "    .dataframe tbody tr th:only-of-type {\n",
       "        vertical-align: middle;\n",
       "    }\n",
       "\n",
       "    .dataframe tbody tr th {\n",
       "        vertical-align: top;\n",
       "    }\n",
       "\n",
       "    .dataframe thead th {\n",
       "        text-align: right;\n",
       "    }\n",
       "</style>\n",
       "<table border=\"1\" class=\"dataframe\">\n",
       "  <thead>\n",
       "    <tr style=\"text-align: right;\">\n",
       "      <th></th>\n",
       "      <th>response_tweet_id</th>\n",
       "      <th>text</th>\n",
       "      <th>response</th>\n",
       "      <th>tweet_id</th>\n",
       "    </tr>\n",
       "  </thead>\n",
       "  <tbody>\n",
       "    <tr>\n",
       "      <th>0</th>\n",
       "      <td>2</td>\n",
       "      <td>115712 i understand i would like to assist you we would need to get you into a private secured link to further assist</td>\n",
       "      <td>sprintcare and how do you propose we do that</td>\n",
       "      <td>2</td>\n",
       "    </tr>\n",
       "    <tr>\n",
       "      <th>1</th>\n",
       "      <td>1</td>\n",
       "      <td>sprintcare i have sent several private messages and no one is responding as usual</td>\n",
       "      <td>115712 i understand i would like to assist you we would need to get you into a private secured link to further assist</td>\n",
       "      <td>1</td>\n",
       "    </tr>\n",
       "    <tr>\n",
       "      <th>2</th>\n",
       "      <td>3</td>\n",
       "      <td>115712 please send us a private message so that we can further assist you just click message at the top of your profile</td>\n",
       "      <td>sprintcare i have sent several private messages and no one is responding as usual</td>\n",
       "      <td>3</td>\n",
       "    </tr>\n",
       "    <tr>\n",
       "      <th>3</th>\n",
       "      <td>4</td>\n",
       "      <td>sprintcare i did</td>\n",
       "      <td>115712 please send us a private message so that we can further assist you just click message at the top of your profile</td>\n",
       "      <td>4</td>\n",
       "    </tr>\n",
       "    <tr>\n",
       "      <th>4</th>\n",
       "      <td>12</td>\n",
       "      <td>115713 we understand your concerns and we'd like for you to please send us a direct message so that we can further assist you aa</td>\n",
       "      <td>sprintcare you gonna magically change your connectivity for me and my whole family ?</td>\n",
       "      <td>12</td>\n",
       "    </tr>\n",
       "  </tbody>\n",
       "</table>\n",
       "</div>"
      ],
      "text/plain": [
       "   response_tweet_id  \\\n",
       "0                  2   \n",
       "1                  1   \n",
       "2                  3   \n",
       "3                  4   \n",
       "4                 12   \n",
       "\n",
       "                                                                                                                               text  \\\n",
       "0             115712 i understand i would like to assist you we would need to get you into a private secured link to further assist   \n",
       "1                                                 sprintcare i have sent several private messages and no one is responding as usual   \n",
       "2           115712 please send us a private message so that we can further assist you just click message at the top of your profile   \n",
       "3                                                                                                                  sprintcare i did   \n",
       "4  115713 we understand your concerns and we'd like for you to please send us a direct message so that we can further assist you aa   \n",
       "\n",
       "                                                                                                                  response  \\\n",
       "0                                                                             sprintcare and how do you propose we do that   \n",
       "1    115712 i understand i would like to assist you we would need to get you into a private secured link to further assist   \n",
       "2                                        sprintcare i have sent several private messages and no one is responding as usual   \n",
       "3  115712 please send us a private message so that we can further assist you just click message at the top of your profile   \n",
       "4                                     sprintcare you gonna magically change your connectivity for me and my whole family ?   \n",
       "\n",
       "   tweet_id  \n",
       "0         2  \n",
       "1         1  \n",
       "2         3  \n",
       "3         4  \n",
       "4        12  "
      ]
     },
     "execution_count": 11,
     "metadata": {},
     "output_type": "execute_result"
    }
   ],
   "source": [
    "merged_tweets['text']=merged_tweets['text'].apply(remove_spcl)\n",
    "merged_tweets['response']=merged_tweets['response'].apply(remove_spcl)\n",
    "merged_tweets.head()"
   ]
  },
  {
   "cell_type": "code",
   "execution_count": 76,
   "metadata": {},
   "outputs": [],
   "source": [
    "merged_tweets[:929231][['text','response']].to_csv('cleaned_tweets.csv')"
   ]
  },
  {
   "cell_type": "code",
   "execution_count": 71,
   "metadata": {},
   "outputs": [
    {
     "data": {
      "text/plain": [
       "(1548719, 4)"
      ]
     },
     "execution_count": 71,
     "metadata": {},
     "output_type": "execute_result"
    }
   ],
   "source": [
    "merged_tweets.shape"
   ]
  },
  {
   "cell_type": "code",
   "execution_count": 72,
   "metadata": {},
   "outputs": [
    {
     "data": {
      "text/plain": [
       "929231.4"
      ]
     },
     "execution_count": 72,
     "metadata": {},
     "output_type": "execute_result"
    }
   ],
   "source": [
    "0.6*1548719"
   ]
  },
  {
   "cell_type": "code",
   "execution_count": 81,
   "metadata": {},
   "outputs": [
    {
     "data": {
      "text/plain": [
       "1238975.2"
      ]
     },
     "execution_count": 81,
     "metadata": {},
     "output_type": "execute_result"
    }
   ],
   "source": [
    "0.8*1548719"
   ]
  },
  {
   "cell_type": "code",
   "execution_count": 80,
   "metadata": {},
   "outputs": [
    {
     "data": {
      "text/plain": [
       "(1548719, 4)"
      ]
     },
     "execution_count": 80,
     "metadata": {},
     "output_type": "execute_result"
    }
   ],
   "source": [
    "merged_tweets.shape"
   ]
  },
  {
   "cell_type": "code",
   "execution_count": 20,
   "metadata": {},
   "outputs": [],
   "source": [
    "merged_tweets.loc[:929230,['text','response']].loc[~pd.isna(merged_tweets.response)].to_csv('twitter_data/cleaned_tweets_train.csv',index=False)"
   ]
  },
  {
   "cell_type": "code",
   "execution_count": 21,
   "metadata": {},
   "outputs": [],
   "source": [
    "merged_tweets.loc[929231:1238975,['text','response']].loc[~pd.isna(merged_tweets.response)].to_csv('twitter_data/cleaned_tweets_valid.csv',index=False)"
   ]
  },
  {
   "cell_type": "code",
   "execution_count": 22,
   "metadata": {},
   "outputs": [],
   "source": [
    "merged_tweets.loc[1238975:,['text','response']].loc[~pd.isna(merged_tweets.response)].to_csv('twitter_data/cleaned_tweets_test.csv',index=False)"
   ]
  },
  {
   "cell_type": "code",
   "execution_count": null,
   "metadata": {},
   "outputs": [],
   "source": []
  }
 ],
 "metadata": {
  "kernelspec": {
   "display_name": "pytorch",
   "language": "python",
   "name": "pytorch"
  },
  "language_info": {
   "codemirror_mode": {
    "name": "ipython",
    "version": 3
   },
   "file_extension": ".py",
   "mimetype": "text/x-python",
   "name": "python",
   "nbconvert_exporter": "python",
   "pygments_lexer": "ipython3",
   "version": "3.6.12"
  }
 },
 "nbformat": 4,
 "nbformat_minor": 4
}
