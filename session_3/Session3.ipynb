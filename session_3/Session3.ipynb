{
 "cells": [
  {
   "cell_type": "markdown",
   "metadata": {},
   "source": [
    "### Q1: check if a number is a fibonacci or not"
   ]
  },
  {
   "cell_type": "code",
   "execution_count": 4,
   "metadata": {},
   "outputs": [],
   "source": [
    "from functools import reduce\n",
    "  \n",
    "fib = lambda n: reduce(lambda x, _: x+[x[-1]+x[-2]], \n",
    "                                 range(n-2), [0, 1]) \n",
    "fib_10k = fib(10000)"
   ]
  },
  {
   "cell_type": "code",
   "execution_count": 11,
   "metadata": {},
   "outputs": [
    {
     "data": {
      "text/plain": [
       "[5, 2]"
      ]
     },
     "execution_count": 11,
     "metadata": {},
     "output_type": "execute_result"
    }
   ],
   "source": [
    "li=[5]\n",
    "final_list = list(filter(lambda x: (x in fib_10k) , li))\n",
    "final_list"
   ]
  },
  {
   "cell_type": "code",
   "execution_count": 12,
   "metadata": {},
   "outputs": [
    {
     "data": {
      "text/plain": [
       "[1, 3, 5]"
      ]
     },
     "execution_count": 12,
     "metadata": {},
     "output_type": "execute_result"
    }
   ],
   "source": [
    "li=[1,3,5,9]\n",
    "final_list = list(filter(lambda x: (x in fib_10k) , li))\n",
    "final_list"
   ]
  },
  {
   "cell_type": "markdown",
   "metadata": {},
   "source": [
    "### Q2\n",
    "- add 2 iterables a and b such that a is even and b is odd\n",
    "- strips every vowel from a string provided (tsai>>t s)\n",
    "- acts like a ReLU function for a 1D array\n",
    "- acts like a sigmoid function for a 1D array\n",
    "- takes a small character string and shifts all characters by 5 (handle boundary conditions) tsai>>yxfn"
   ]
  },
  {
   "cell_type": "code",
   "execution_count": 15,
   "metadata": {},
   "outputs": [
    {
     "name": "stdout",
     "output_type": "stream",
     "text": [
      "[384, 45, 249, 369, 276, 459, 209, 375, 327, 271, 323, 396, 402, 443, 21, 368, 213, 416, 197, 10]\n",
      "[87, 62, 106, 8, 351, 254, 250, 453, 182, 299, 43, 70, 59, 483, 309, 269, 498, 259, 72, 213]\n"
     ]
    },
    {
     "data": {
      "text/plain": [
       "[471, 627, 461, 637, 675, 223]"
      ]
     },
     "execution_count": 15,
     "metadata": {},
     "output_type": "execute_result"
    }
   ],
   "source": [
    "import random\n",
    "\n",
    "list1 = [random.randint(0,500) for x in range(20)]\n",
    "list2 = [random.randint(0,500) for x in range(20)]\n",
    "\n",
    "odd_even = [a+b for a,b in zip(list1,list2) if (a%2==0) and (b%2!=0)]\n",
    "print(list1)\n",
    "print(list2)\n",
    "odd_even"
   ]
  },
  {
   "cell_type": "code",
   "execution_count": 26,
   "metadata": {},
   "outputs": [
    {
     "data": {
      "text/plain": [
       "'t s'"
      ]
     },
     "execution_count": 26,
     "metadata": {},
     "output_type": "execute_result"
    }
   ],
   "source": [
    "s = 'tsai'\n",
    "vowels=['a','e','i','o','u']\n",
    "s_mod = [x for x in s if x not in vowels ]\n",
    "\" \".join(s_mod)"
   ]
  },
  {
   "cell_type": "code",
   "execution_count": 27,
   "metadata": {},
   "outputs": [
    {
     "name": "stdout",
     "output_type": "stream",
     "text": [
      "[-15, 16, 26, 11, -9, -37, 72, 21, 68, 17]\n",
      "[0, 16, 26, 11, 0, 0, 72, 21, 68, 17]\n"
     ]
    }
   ],
   "source": [
    "input_ = [random.randint(-100 , 100) for x in range(10)]\n",
    "print(input_)\n",
    "print([x if x>0 else 0 for x in input_ ])"
   ]
  },
  {
   "cell_type": "code",
   "execution_count": 29,
   "metadata": {},
   "outputs": [
    {
     "name": "stdout",
     "output_type": "stream",
     "text": [
      "[0.03158381564499524, 0.08330328534569842]\n",
      "[0.5078952976009332, 0.5208137863977248]\n"
     ]
    }
   ],
   "source": [
    "from math import exp\n",
    "input_ = [random.random() for x in range(2)]\n",
    "print(input_)\n",
    "\n",
    "#### Sigmoid implementation\n",
    "print([1 / (1 + exp(-x)) if x>0 else 0  for x in input_  ])"
   ]
  },
  {
   "cell_type": "code",
   "execution_count": 31,
   "metadata": {},
   "outputs": [
    {
     "data": {
      "text/plain": [
       "'yxfn'"
      ]
     },
     "execution_count": 31,
     "metadata": {},
     "output_type": "execute_result"
    }
   ],
   "source": [
    "s = 'tsai'\n",
    "s_mod = [chr(ord(x) + 5 ) if ord(x) <= 117 else chr(96 + 5 - 122 - ord(x))  for x in s]\n",
    "\n",
    "\"\".join(s_mod)"
   ]
  },
  {
   "cell_type": "markdown",
   "metadata": {},
   "source": [
    "### Q3\n",
    "A list comprehension expression that takes a ~200 word paragraph (write your own paragraph to check), and checks whether it has any of the swear words mentioned"
   ]
  },
  {
   "cell_type": "code",
   "execution_count": 41,
   "metadata": {},
   "outputs": [],
   "source": [
    "import pandas as pd\n",
    "prof = pd.read_table('Swear_Words.txt',header=None)\n",
    "prof.columns=['swear']\n",
    "swear = prof['swear'].to_list()"
   ]
  },
  {
   "cell_type": "code",
   "execution_count": 54,
   "metadata": {},
   "outputs": [
    {
     "data": {
      "text/plain": [
       "['4r5e', '5h1t', '5hit', 'a55', 'anal', 'anus', 'ar5e', 'arrse', 'arse', 'ass']"
      ]
     },
     "execution_count": 54,
     "metadata": {},
     "output_type": "execute_result"
    }
   ],
   "source": [
    "swear[:10]"
   ]
  },
  {
   "cell_type": "code",
   "execution_count": 57,
   "metadata": {},
   "outputs": [],
   "source": [
    "para = \"Former Australia spinner Brad Hogg named his IPL XI from the league phase\\\n",
    "and overlooked some big names like KL Rahul, Virat Kohli, David Warner, Kieron Pollard and Trent Boult.\\\n",
    "However, he ended up making a very sound XI, at least on paper. Shikhar Dhawan was an automatic pick in\\\n",
    "his side as he not only has 525 runs but a strike-rate of 145.02, which is far better than Warner (136.69),\\\n",
    "Rahul (129.34), and de Kock (138.00). In fact, it is second only to Mayank Agarwal, who has the best strike-rate\\\n",
    "among top ten batsmen of the IPL 2020 thus far. He picked Agarwal to open with Dhawan, saying, I just love the way\\\n",
    "that Agarwal has played for Kings XI Punjab. If it wasnt for him, they would have not been even close to getting to the \\\n",
    "playoffs. He was dynamite opening the batting for them. He left out Rahul, who has 670 runs but a rather poor strike-rate. \\\n",
    "The chinaman spinner also had special mentions for RCB's Devdutt Padikkal and MI's Quinton de Kock. added sample swear word: a55\""
   ]
  },
  {
   "cell_type": "code",
   "execution_count": 58,
   "metadata": {},
   "outputs": [
    {
     "name": "stdout",
     "output_type": "stream",
     "text": [
      "['a55']\n"
     ]
    }
   ],
   "source": [
    "print([x for x in list(set(para.split())) if x in swear])"
   ]
  },
  {
   "cell_type": "markdown",
   "metadata": {},
   "source": [
    "### Q4\n",
    "- add only even numbers in a list\n",
    "- find the biggest character in a string (printable ascii characters)\n",
    "- adds every 3rd number in a list"
   ]
  },
  {
   "cell_type": "code",
   "execution_count": 68,
   "metadata": {},
   "outputs": [
    {
     "name": "stdout",
     "output_type": "stream",
     "text": [
      "[20, 100, 74, 6, 93, 71, 59, 84, 94, 2]\n"
     ]
    },
    {
     "data": {
      "text/plain": [
       "380"
      ]
     },
     "execution_count": 68,
     "metadata": {},
     "output_type": "execute_result"
    }
   ],
   "source": [
    "from functools import reduce\n",
    "input_ = [random.randint(0,100) for i in range(10)]\n",
    "\n",
    "def add_even(a,b):\n",
    "    if a%2==0 and b%2==0:\n",
    "        return(a+b)\n",
    "    if a%2==0:\n",
    "        return(a)\n",
    "    if b%2==0:\n",
    "        return(b)\n",
    "    return(0)\n",
    "print(input_)\n",
    "reduce(add_even, input_)"
   ]
  },
  {
   "cell_type": "code",
   "execution_count": 72,
   "metadata": {},
   "outputs": [
    {
     "name": "stdout",
     "output_type": "stream",
     "text": [
      "o\t|#<R5PCS\n",
      "|\n"
     ]
    }
   ],
   "source": [
    "import string\n",
    "\n",
    "\n",
    "s = \"\".join([string.printable[random.randint(0,100)] for x in range(10)])\n",
    "print(s)\n",
    "\n",
    "\n",
    "print(reduce(lambda a,b : a if ord(a) > ord(b) else b ,s))"
   ]
  },
  {
   "cell_type": "code",
   "execution_count": 75,
   "metadata": {},
   "outputs": [
    {
     "name": "stdout",
     "output_type": "stream",
     "text": [
      "117\n"
     ]
    }
   ],
   "source": [
    "input_ = [random.randint(0,100) for i in range(10)]\n",
    "idx = list(zip( list(range(1,len(input_) + 1)) , input_))\n",
    "print(reduce(lambda a , b : a + b, [item[1] for item in list(filter(lambda  x : True if x[0]%3 == 0 else False ,idx))]))   "
   ]
  },
  {
   "cell_type": "markdown",
   "metadata": {},
   "source": [
    "### Q5"
   ]
  },
  {
   "cell_type": "code",
   "execution_count": 78,
   "metadata": {},
   "outputs": [
    {
     "data": {
      "text/plain": [
       "['KA57BT7942',\n",
       " 'KA18UZ3764',\n",
       " 'KA77HU4258',\n",
       " 'KA98YF6542',\n",
       " 'KA23WV2207',\n",
       " 'KA43PQ5461',\n",
       " 'KA72OQ6073',\n",
       " 'KA84FP3993',\n",
       " 'KA56RN8024',\n",
       " 'KA41MU3222',\n",
       " 'KA81XD2152',\n",
       " 'KA84PA5334',\n",
       " 'KA29WQ5406',\n",
       " 'KA40OP8667',\n",
       " 'KA76UJ7181']"
      ]
     },
     "execution_count": 78,
     "metadata": {},
     "output_type": "execute_result"
    }
   ],
   "source": [
    "caps = [chr(x) for x in range(65,91)]\n",
    "\n",
    "\n",
    "[\"KA\" + str(random.randint(10,99)) + random.choice(caps) + random.choice(caps) + str(random.randint(1000,9999)) for _ in range(15)]"
   ]
  },
  {
   "cell_type": "markdown",
   "metadata": {},
   "source": [
    "### Q6"
   ]
  },
  {
   "cell_type": "code",
   "execution_count": 80,
   "metadata": {},
   "outputs": [
    {
     "data": {
      "text/plain": [
       "['DL27DC9978',\n",
       " 'DL34YI9746',\n",
       " 'DL17QN2275',\n",
       " 'DL88YL9552',\n",
       " 'DL65VZ9675',\n",
       " 'DL22JO7568',\n",
       " 'DL30AM6248',\n",
       " 'DL72WQ4959',\n",
       " 'DL33YN8138',\n",
       " 'DL11SU5816',\n",
       " 'DL45UN9784',\n",
       " 'DL37IT4191',\n",
       " 'DL55HN5705',\n",
       " 'DL69UX5638',\n",
       " 'DL31YF2077']"
      ]
     },
     "execution_count": 80,
     "metadata": {},
     "output_type": "execute_result"
    }
   ],
   "source": [
    "def gen_np(state_code,DDDD_min,DDDD_max):\n",
    "    return([state_code + str(random.randint(10,99)) + random.choice(caps) + random.choice(caps) + str(random.randint(DDDD_min,DDDD_max)) for _ in range(15)]) \n",
    "\n",
    "gen_np(\"DL\",1000,9999)"
   ]
  },
  {
   "cell_type": "code",
   "execution_count": null,
   "metadata": {},
   "outputs": [],
   "source": []
  }
 ],
 "metadata": {
  "kernelspec": {
   "display_name": "Python 3",
   "language": "python",
   "name": "python3"
  },
  "language_info": {
   "codemirror_mode": {
    "name": "ipython",
    "version": 3
   },
   "file_extension": ".py",
   "mimetype": "text/x-python",
   "name": "python",
   "nbconvert_exporter": "python",
   "pygments_lexer": "ipython3",
   "version": "3.7.4"
  }
 },
 "nbformat": 4,
 "nbformat_minor": 4
}
